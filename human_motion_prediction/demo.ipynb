{
 "cells": [
  {
   "cell_type": "code",
   "execution_count": null,
   "id": "6301fc70-55d7-43b3-adb1-ee4a1de17c76",
   "metadata": {},
   "source": [
    "import analysis\n",
    "import loaders\n",
    "import json\n",
    "from utils import yaml_utils\n",
    "from pathlib import Path\n",
    "\n",
    "# To work on jupyter\n",
    "import matplotlib\n",
    "matplotlib.use('Qt5Agg')\n",
    "import matplotlib.pyplot as plt"
   ],
   "outputs": []
  },
  {
   "cell_type": "markdown",
   "id": "9a52d349-79db-449b-8505-8d2818e271d5",
   "metadata": {},
   "source": [
    "# Configurattion section"
   ]
  },
  {
   "cell_type": "code",
   "execution_count": null,
   "id": "ad0c7737-e3ac-4f6f-b82e-63dc4356df11",
   "metadata": {},
   "source": [
    "# opt comes from the YAML file but not info from there is needed, then we just select what we need :)\n",
    "opt = yaml_utils.load_yaml(\"config/data-analysis-demo.yaml\", class_mode=True)\n",
    "db_set = \"test\" # split set. \"train\", \"test\", \"original_test\",\"other\" # other if implemented.\n",
    "# db = [\"cmu\", \"h36m\", \"3dpw\", \"amass\", \"expi\"] # not validated for CMU in the last pipeline version.\n",
    "if \"cmu\" in opt.general_config.data_dir: db = \"cmu\"\n",
    "elif \"h3\" in opt.general_config.data_dir: db = \"h36m\"\n",
    "elif \"3d\" in opt.general_config.data_dir: db = \"3dpw\"\n",
    "elif \"amas\" in opt.general_config.data_dir: db = \"amass\"\n",
    "elif \"ex\" in opt.general_config.data_dir: db = \"expi\"\n",
    "dim_used = json.load(open(f'stats/{db}_train_stats.json'))[\"dim_used\"]"
   ],
   "outputs": []
  },
  {
   "cell_type": "markdown",
   "id": "1b032905-434a-4102-866a-cb7fc80b1306",
   "metadata": {},
   "source": [
    "# Load dataset and specific set."
   ]
  },
  {
   "cell_type": "code",
   "execution_count": null,
   "id": "bb286e5f-0167-45a4-b3c8-60117177ad58",
   "metadata": {
    "tags": []
   },
   "source": [
    "# loader = loaders.get_loader(opt, split=\"test\", model=None, return_all_joints=True, )\n",
    "loader, actions = loaders.get_loader_divided_by_actions(db, db_set, opt, shuffle=False, return_class=True)"
   ],
   "outputs": []
  },
  {
   "cell_type": "code",
   "execution_count": null,
   "id": "312293cf-617e-4ef2-870a-e01c437a9e28",
   "metadata": {},
   "source": [
    "loader"
   ],
   "outputs": []
  },
  {
   "cell_type": "code",
   "execution_count": null,
   "id": "adf3a4d0-1ca0-4525-9fee-a81ed80d85f0",
   "metadata": {},
   "source": [
    "curr_act = actions[-2]\n",
    "target = loader[curr_act].dataset.target[10]\n",
    "pred = loader[curr_act].dataset.target[75]\n",
    "print(pred.shape, target.shape)"
   ],
   "outputs": []
  },
  {
   "cell_type": "markdown",
   "id": "db6686bb-4fb1-4c42-a337-4fab7fbc85b0",
   "metadata": {},
   "source": [
    "# Visualization of specific pose sequences given numpy"
   ]
  },
  {
   "cell_type": "code",
   "execution_count": null,
   "id": "f6068a99-bba3-4202-a303-6199165ca271",
   "metadata": {},
   "source": [
    "args = opt.evaluation_config.visualization.__dict__\n",
    "args[\"db\"] = db\n",
    "# {'repeat': 2, 'mode': 'single', 'plot_joints': True, 'db': 'expi'}\n",
    "analysis.create_animation(f'test_sample{0}.gif',\n",
    "                          [target],\n",
    "                          **args)\n",
    "analysis.create_animation(f'test_sample{1}.gif',\n",
    "                          [pred],\n",
    "                          **args)\n",
    "plt.close()"
   ],
   "outputs": []
  },
  {
   "cell_type": "code",
   "execution_count": null,
   "id": "fd0c245e-0abc-49b2-98db-115204ebe073",
   "metadata": {},
   "source": [
    "data = loader[curr_act].dataset.target\n",
    "print(data.shape)\n",
    "plot = analysis.analysis_utils.SequenceAnalytics(data,\n",
    "                                                 db=db,\n",
    "                                                 dim_used=dim_used,\n",
    "                                                 remove_temporal_data=True)"
   ],
   "outputs": []
  },
  {
   "cell_type": "code",
   "execution_count": null,
   "id": "abb4d78b-bca6-4f29-852e-61ac94c843d1",
   "metadata": {},
   "source": [
    "global_config = {'module': 'norm'}\n",
    "fig_size = [18, 18]\n",
    "valid_j = ['R_Wrist_End', 'L_Wrist_End', 'LeftFoot', 'RightFoot', 'Head']\n",
    "plot_type = {'absolute': {\n",
    "                            'pose': None, # plot pose with absolute values\n",
    "                            'velocity': {'ylim': [-1, 50]}, # plot velocity with absolute values\n",
    "                            'acceleration': {'ylim': [-1, 100]}, # plot acceleration with absolute values\n",
    "                            'angle': {'ylim': [-1, 1.25]} # plot angle with absolute values\n",
    "                        },\n",
    "             'relative': {\n",
    "                            'pose': None, # plot pose with respect to the pose 0.\n",
    "                            'velocity': {'ylim': [-1, 600]}, # plot velocity with respect to the velocity of pose 0.\n",
    "                            'acceleration': {'ylim': [-1, 600]}, # plot acceleration with respect to the acceleration of pose 0.\n",
    "                            'angle': {'ylim': [-0.01, 0.25]} # plot angle with respect to the angle of pose 0.\n",
    "                        },\n",
    "             }\n",
    "\n",
    "plot.init_figure(size=fig_size)\n",
    "plot.Plot2D_joint_physics(eval_physical_config=conf, global_config=global_config, mode=name, joints=valid_j) # idx is optional with one sample.\n",
    "plot.show(f'one_sample.jpg', show=False)\n",
    "plt.close(\"all\")\n",
    "\n",
    "for idx in range(5): # number of indexes otherwise 0 is ok.\n",
    "    for name, conf in plot_type.items():\n",
    "        plot.init_figure(size=fig_size)\n",
    "        plot.Plot2D_joint_physics(eval_physical_config=conf, idx=idx, global_config=global_config, mode=name, joints=valid_j)\n",
    "        plot.show(f'{name}_{idx}.jpg', show=False)\n",
    "        plt.close(\"all\")"
   ],
   "outputs": []
  },
  {
   "cell_type": "markdown",
   "id": "a892ac58-7b83-4c0a-ad87-674bde301cc1",
   "metadata": {
    "tags": []
   },
   "source": [
    "# Data Analytics inside the pipeline (still on validation on YAML)"
   ]
  },
  {
   "cell_type": "code",
   "execution_count": null,
   "id": "cbb5c269-a9e1-43ba-82c4-12421c5a9853",
   "metadata": {},
   "source": [
    "plot = analysis.analysis_utils.SequenceAnalytics(loader[actions[0]],\n",
    "                                                 db=db,\n",
    "                                                 dim_used=dim_used,\n",
    "                                                 remove_temporal_data=True)"
   ],
   "outputs": []
  },
  {
   "cell_type": "code",
   "execution_count": null,
   "id": "8926a716-221f-442c-a43b-38d50bd9ef8d",
   "metadata": {},
   "source": [
    "for typ in opt.evaluation_config.sets:\n",
    "    db_set = list(typ.__dict__.keys())[0]  # must have only one set.\n",
    "    typ = typ.__dict__[db_set]\n",
    "    actions = \"all\" if typ.classes == [\"all\"] else typ.classes\n",
    "    valid_j = typ.joints  # joint names to analyze.\n",
    "    indices_to_eval = typ.index  # samples to analyze - Of course they change the order when different set are read\n",
    "    figs_path = \"test.png\"\n",
    "    for idx in indices_to_eval:\n",
    "        plot_type = typ.evaluate.index.physical.__dict__\n",
    "        if hasattr(typ.evaluate.index.physical, \"global_config\"):\n",
    "            global_config = typ.evaluate.index.physical.global_config\n",
    "            plot_type.pop(\"global_config\")\n",
    "        if hasattr(typ.evaluate.index.physical, \"fig_size\"):\n",
    "            fig_size = typ.evaluate.index.physical.fig_size\n",
    "            plot_type.pop(\"fig_size\")\n",
    "        for name, conf in plot_type.items():\n",
    "            plot.init_figure(size=fig_size)\n",
    "            plot.Plot2D_joint_physics(eval_physical_config=conf, idx=idx, global_config=global_config, mode=name, joints=valid_j)\n",
    "            plot.show(f'pipeline__{name}_{idx}.jpg', show=False)\n",
    "            plt.close(\"all\")"
   ],
   "outputs": []
  },
  {
   "cell_type": "code",
   "execution_count": null,
   "id": "4326f99e-39a1-4344-944d-1e999afbf875",
   "metadata": {},
   "source": [],
   "outputs": []
  },
  {
   "cell_type": "code",
   "execution_count": null,
   "id": "7d7c155a-ec1e-4f4f-9e90-82430225bd78",
   "metadata": {},
   "source": [],
   "outputs": []
  }
 ],
 "metadata": {
  "kernelspec": {
   "display_name": "Python 3 (ipykernel)",
   "language": "python",
   "name": "python3"
  },
  "language_info": {
   "codemirror_mode": {
    "name": "ipython",
    "version": 3
   },
   "file_extension": ".py",
   "mimetype": "text/x-python",
   "name": "python",
   "nbconvert_exporter": "python",
   "pygments_lexer": "ipython3",
   "version": "3.8.13"
  }
 },
 "nbformat": 4,
 "nbformat_minor": 5
}
